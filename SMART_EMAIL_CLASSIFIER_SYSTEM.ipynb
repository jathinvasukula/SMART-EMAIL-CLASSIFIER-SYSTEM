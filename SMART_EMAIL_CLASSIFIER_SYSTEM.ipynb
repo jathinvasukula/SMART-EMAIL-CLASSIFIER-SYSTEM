{
  "nbformat": 4,
  "nbformat_minor": 0,
  "metadata": {
    "colab": {
      "provenance": []
    },
    "kernelspec": {
      "name": "python3",
      "display_name": "Python 3"
    },
    "language_info": {
      "name": "python"
    }
  },
  "cells": [
    {
      "cell_type": "code",
      "execution_count": 7,
      "metadata": {
        "colab": {
          "base_uri": "https://localhost:8080/"
        },
        "id": "NLQa6UADDCFF",
        "outputId": "408d137d-5976-48d8-b2e4-c2b7d8f865cf"
      },
      "outputs": [
        {
          "output_type": "stream",
          "name": "stdout",
          "text": [
            "Requirement already satisfied: scikit-learn in /usr/local/lib/python3.11/dist-packages (1.6.1)\n",
            "Requirement already satisfied: pandas in /usr/local/lib/python3.11/dist-packages (2.2.2)\n",
            "Requirement already satisfied: numpy>=1.19.5 in /usr/local/lib/python3.11/dist-packages (from scikit-learn) (2.0.2)\n",
            "Requirement already satisfied: scipy>=1.6.0 in /usr/local/lib/python3.11/dist-packages (from scikit-learn) (1.15.3)\n",
            "Requirement already satisfied: joblib>=1.2.0 in /usr/local/lib/python3.11/dist-packages (from scikit-learn) (1.5.1)\n",
            "Requirement already satisfied: threadpoolctl>=3.1.0 in /usr/local/lib/python3.11/dist-packages (from scikit-learn) (3.6.0)\n",
            "Requirement already satisfied: python-dateutil>=2.8.2 in /usr/local/lib/python3.11/dist-packages (from pandas) (2.9.0.post0)\n",
            "Requirement already satisfied: pytz>=2020.1 in /usr/local/lib/python3.11/dist-packages (from pandas) (2025.2)\n",
            "Requirement already satisfied: tzdata>=2022.7 in /usr/local/lib/python3.11/dist-packages (from pandas) (2025.2)\n",
            "Requirement already satisfied: six>=1.5 in /usr/local/lib/python3.11/dist-packages (from python-dateutil>=2.8.2->pandas) (1.17.0)\n"
          ]
        }
      ],
      "source": [
        "#INSTALLING AND IMPORTING REQUIRED PACKAGES\n",
        "!pip install scikit-learn pandas\n",
        "\n",
        "import pandas as pd\n",
        "import numpy as np\n",
        "import string\n",
        "import re\n",
        "\n",
        "from sklearn.model_selection import train_test_split\n",
        "from sklearn.feature_extraction.text import TfidfVectorizer\n",
        "from sklearn.naive_bayes import MultinomialNB\n",
        "from sklearn.preprocessing import LabelEncoder\n",
        "from sklearn.metrics import classification_report"
      ]
    },
    {
      "cell_type": "code",
      "source": [
        "#PREPROCESSING\n",
        "def preprocess_text(text):\n",
        "    text = str(text).lower()\n",
        "    text = re.sub(r\"http\\S+\", \"\", text)\n",
        "    text = re.sub(r\"\\d+\", \"\", text)\n",
        "    text = text.translate(str.maketrans(\"\", \"\", string.punctuation))\n",
        "    text = re.sub(r\"\\s+\", \" \", text).strip()\n",
        "    return text"
      ],
      "metadata": {
        "id": "Js8Je6c5DNF6"
      },
      "execution_count": 1,
      "outputs": []
    },
    {
      "cell_type": "code",
      "source": [
        "#Load & Prepare Spam Dataset\n",
        "def load_spam_dataset(path):\n",
        "    df = pd.read_csv(path, encoding='latin-1')[['v1', 'v2']]\n",
        "    df.columns = ['label', 'text']\n",
        "    df['text'] = df['text'].apply(preprocess_text)\n",
        "    return df"
      ],
      "metadata": {
        "id": "pucFJLdJDOQx"
      },
      "execution_count": 2,
      "outputs": []
    },
    {
      "cell_type": "code",
      "source": [
        "#Create Priority Dataset\n",
        "def load_priority_dataset():\n",
        "    data = {\n",
        "        'text': [\n",
        "            \"Please submit your project report today.\",\n",
        "            \"Reminder: team lunch at 1PM\",\n",
        "            \"Urgent: server is down. Call IT immediately\",\n",
        "            \"Update your timesheet before Friday\",\n",
        "            \"Fire drill will be conducted tomorrow\",\n",
        "            \"Company retreat is next weekend\"\n",
        "        ],\n",
        "        'priority': ['High', 'Low', 'High', 'Medium', 'Medium', 'Low']\n",
        "    }\n",
        "    df = pd.DataFrame(data)\n",
        "    df['text'] = df['text'].apply(preprocess_text)\n",
        "    return df"
      ],
      "metadata": {
        "id": "BD0o_ZE0DQ1g"
      },
      "execution_count": 3,
      "outputs": []
    },
    {
      "cell_type": "code",
      "source": [
        "# TF-IDF + Train Function\n",
        "def extract_features(train_texts, test_texts):\n",
        "    tfidf = TfidfVectorizer(stop_words='english')\n",
        "    X_train = tfidf.fit_transform(train_texts)\n",
        "    X_test = tfidf.transform(test_texts)\n",
        "    return X_train, X_test, tfidf\n",
        "\n",
        "def train_model(X_train, y_train):\n",
        "    model = MultinomialNB()\n",
        "    model.fit(X_train, y_train)\n",
        "    return model"
      ],
      "metadata": {
        "id": "xABFKoMlDT0o"
      },
      "execution_count": 4,
      "outputs": []
    },
    {
      "cell_type": "code",
      "source": [
        "#Prediction Function\n",
        "def predict_email(model, tfidf, email_text, label_encoder=None):\n",
        "    cleaned = preprocess_text(email_text)\n",
        "    features = tfidf.transform([cleaned])\n",
        "    probs = model.predict_proba(features)[0]\n",
        "    pred_idx = np.argmax(probs)\n",
        "    pred_class = model.classes_[pred_idx]\n",
        "    confidence = probs[pred_idx]\n",
        "    if label_encoder:\n",
        "        pred_class = label_encoder.inverse_transform([pred_class])[0]\n",
        "    return pred_class, confidence"
      ],
      "metadata": {
        "id": "UFKbXqXdDWFb"
      },
      "execution_count": 5,
      "outputs": []
    },
    {
      "cell_type": "code",
      "source": [
        "#Train Both Models\n",
        "# 1. Spam/Ham Classifier\n",
        "spam_df = load_spam_dataset(\"/content/spam.csv\")\n",
        "X_train_s, X_test_s, y_train_s, y_test_s = train_test_split(spam_df['text'], spam_df['label'], test_size=0.2, random_state=42)\n",
        "X_train_s_vec, X_test_s_vec, tfidf_spam = extract_features(X_train_s, X_test_s)\n",
        "model_spam = train_model(X_train_s_vec, y_train_s)\n",
        "\n",
        "# 2. Priority Classifier\n",
        "priority_df = load_priority_dataset()\n",
        "le_priority = LabelEncoder()\n",
        "priority_df['priority_encoded'] = le_priority.fit_transform(priority_df['priority'])\n",
        "X_train_p, X_test_p, y_train_p, y_test_p = train_test_split(priority_df['text'], priority_df['priority_encoded'], test_size=0.2, random_state=42)\n",
        "X_train_p_vec, X_test_p_vec, tfidf_priority = extract_features(X_train_p, X_test_p)\n",
        "model_priority = train_model(X_train_p_vec, y_train_p)"
      ],
      "metadata": {
        "id": "t-MB_HU1DYH6"
      },
      "execution_count": 13,
      "outputs": []
    },
    {
      "cell_type": "code",
      "source": [
        "#Evaluate Models\n",
        "\n",
        "# Spam Report\n",
        "y_pred_s = model_spam.predict(X_test_s_vec)\n",
        "print(\"Spam/Ham Report:\\n\")\n",
        "print(classification_report(y_test_s, y_pred_s))\n",
        "\n",
        "# Priority Report\n",
        "y_pred_p = model_priority.predict(X_test_p_vec)\n",
        "y_true_p = le_priority.inverse_transform(y_test_p)\n",
        "y_pred_p_labels = le_priority.inverse_transform(y_pred_p)\n",
        "print(\"Priority Level Report:\\n\")\n",
        "print(classification_report(y_true_p, y_pred_p_labels))"
      ],
      "metadata": {
        "colab": {
          "base_uri": "https://localhost:8080/"
        },
        "id": "De2RrtfPDptJ",
        "outputId": "ad4a9709-f284-4974-a978-eb1e4e8fe548"
      },
      "execution_count": 14,
      "outputs": [
        {
          "output_type": "stream",
          "name": "stdout",
          "text": [
            "Spam/Ham Report:\n",
            "\n",
            "              precision    recall  f1-score   support\n",
            "\n",
            "         ham       0.96      1.00      0.98       965\n",
            "        spam       1.00      0.77      0.87       150\n",
            "\n",
            "    accuracy                           0.97      1115\n",
            "   macro avg       0.98      0.88      0.93      1115\n",
            "weighted avg       0.97      0.97      0.97      1115\n",
            "\n",
            "Priority Level Report:\n",
            "\n",
            "              precision    recall  f1-score   support\n",
            "\n",
            "        High       0.00      0.00      0.00       1.0\n",
            "         Low       0.00      0.00      0.00       1.0\n",
            "      Medium       0.00      0.00      0.00       0.0\n",
            "\n",
            "    accuracy                           0.00       2.0\n",
            "   macro avg       0.00      0.00      0.00       2.0\n",
            "weighted avg       0.00      0.00      0.00       2.0\n",
            "\n"
          ]
        },
        {
          "output_type": "stream",
          "name": "stderr",
          "text": [
            "/usr/local/lib/python3.11/dist-packages/sklearn/metrics/_classification.py:1565: UndefinedMetricWarning: Precision is ill-defined and being set to 0.0 in labels with no predicted samples. Use `zero_division` parameter to control this behavior.\n",
            "  _warn_prf(average, modifier, f\"{metric.capitalize()} is\", len(result))\n",
            "/usr/local/lib/python3.11/dist-packages/sklearn/metrics/_classification.py:1565: UndefinedMetricWarning: Recall is ill-defined and being set to 0.0 in labels with no true samples. Use `zero_division` parameter to control this behavior.\n",
            "  _warn_prf(average, modifier, f\"{metric.capitalize()} is\", len(result))\n",
            "/usr/local/lib/python3.11/dist-packages/sklearn/metrics/_classification.py:1565: UndefinedMetricWarning: Precision is ill-defined and being set to 0.0 in labels with no predicted samples. Use `zero_division` parameter to control this behavior.\n",
            "  _warn_prf(average, modifier, f\"{metric.capitalize()} is\", len(result))\n",
            "/usr/local/lib/python3.11/dist-packages/sklearn/metrics/_classification.py:1565: UndefinedMetricWarning: Recall is ill-defined and being set to 0.0 in labels with no true samples. Use `zero_division` parameter to control this behavior.\n",
            "  _warn_prf(average, modifier, f\"{metric.capitalize()} is\", len(result))\n",
            "/usr/local/lib/python3.11/dist-packages/sklearn/metrics/_classification.py:1565: UndefinedMetricWarning: Precision is ill-defined and being set to 0.0 in labels with no predicted samples. Use `zero_division` parameter to control this behavior.\n",
            "  _warn_prf(average, modifier, f\"{metric.capitalize()} is\", len(result))\n",
            "/usr/local/lib/python3.11/dist-packages/sklearn/metrics/_classification.py:1565: UndefinedMetricWarning: Recall is ill-defined and being set to 0.0 in labels with no true samples. Use `zero_division` parameter to control this behavior.\n",
            "  _warn_prf(average, modifier, f\"{metric.capitalize()} is\", len(result))\n"
          ]
        }
      ]
    },
    {
      "cell_type": "code",
      "source": [
        "email = \"Hi team, please update me on the server issue today. It's very urgent.\"\n",
        "\n",
        "# Spam/Ham Prediction\n",
        "spam_result, spam_conf = predict_email(model_spam, tfidf_spam, email)\n",
        "print(f\"\\n[Spam/Ham] → {spam_result.upper()} (Confidence: {spam_conf:.2f})\")\n",
        "\n",
        "# Priority Prediction\n",
        "priority_result, priority_conf = predict_email(model_priority, tfidf_priority, email, le_priority)\n",
        "print(f\"[Priority] → {priority_result} (Confidence: {priority_conf:.2f})\")"
      ],
      "metadata": {
        "colab": {
          "base_uri": "https://localhost:8080/"
        },
        "id": "9JsxPIaNEAFP",
        "outputId": "67717331-6fce-4166-9f4c-1ee53b8731db"
      },
      "execution_count": 15,
      "outputs": [
        {
          "output_type": "stream",
          "name": "stdout",
          "text": [
            "\n",
            "[Spam/Ham] → HAM (Confidence: 0.76)\n",
            "[Priority] → Medium (Confidence: 0.44)\n"
          ]
        }
      ]
    }
  ]
}